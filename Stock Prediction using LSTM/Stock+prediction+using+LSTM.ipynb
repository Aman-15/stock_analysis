{
 "cells": [
  {
   "cell_type": "code",
   "execution_count": 41,
   "metadata": {
    "collapsed": false
   },
   "outputs": [],
   "source": [
    "import numpy as np\n",
    "import matplotlib.pyplot as plt\n",
    "import pandas\n",
    "import math\n",
    "from keras.models import Sequential\n",
    "from keras.layers import Dense\n",
    "from keras.layers import LSTM\n",
    "from sklearn.preprocessing import MinMaxScaler\n",
    "from sklearn.metrics import mean_squared_error\n",
    "import csv"
   ]
  },
  {
   "cell_type": "code",
   "execution_count": 42,
   "metadata": {
    "collapsed": false
   },
   "outputs": [],
   "source": [
    "np.random.seed(7)"
   ]
  },
  {
   "cell_type": "code",
   "execution_count": 43,
   "metadata": {
    "collapsed": false
   },
   "outputs": [],
   "source": [
    "# load the dataset\n",
    "dataframe = pandas.read_csv('aapl.csv', usecols=[1], engine='python', skipfooter=3)\n",
    "dataset = dataframe.values\n",
    "dataset = dataset.astype('float32')"
   ]
  },
  {
   "cell_type": "code",
   "execution_count": 44,
   "metadata": {
    "collapsed": false
   },
   "outputs": [],
   "source": [
    "scaler = MinMaxScaler(feature_range=(0, 1))\n",
    "dataset = scaler.fit_transform(dataset)"
   ]
  },
  {
   "cell_type": "code",
   "execution_count": 45,
   "metadata": {
    "collapsed": false
   },
   "outputs": [],
   "source": [
    "train_size = int(len(dataset) * 0.67)\n",
    "test_size = len(dataset) - train_size\n",
    "train, test = dataset[0:train_size,:], dataset[train_size:len(dataset),:]"
   ]
  },
  {
   "cell_type": "code",
   "execution_count": 46,
   "metadata": {
    "collapsed": true
   },
   "outputs": [],
   "source": [
    "def create_dataset(dataset, look_back=1):\n",
    "    dataX, dataY = [], []\n",
    "    for i in range(len(dataset)-look_back-1):\n",
    "        a = dataset[i:(i+look_back), 0]\n",
    "        dataX.append(a)\n",
    "        dataY.append(dataset[i + look_back, 0])\n",
    "    return np.array(dataX), np.array(dataY)"
   ]
  },
  {
   "cell_type": "code",
   "execution_count": 47,
   "metadata": {
    "collapsed": false
   },
   "outputs": [],
   "source": [
    "lookback = 1\n",
    "trainX, trainY = create_dataset(train, lookback)\n",
    "testX, testY = create_dataset(test, lookback)"
   ]
  },
  {
   "cell_type": "code",
   "execution_count": 48,
   "metadata": {
    "collapsed": false
   },
   "outputs": [],
   "source": [
    "trainX = np.reshape(trainX, (trainX.shape[0], 1, trainX.shape[1]))\n",
    "testX = np.reshape(testX, (testX.shape[0], 1, testX.shape[1]))"
   ]
  },
  {
   "cell_type": "code",
   "execution_count": 49,
   "metadata": {
    "collapsed": false
   },
   "outputs": [
    {
     "name": "stdout",
     "output_type": "stream",
     "text": [
      "Epoch 1/100\n",
      "3s - loss: 0.0339\n",
      "Epoch 2/100\n",
      "2s - loss: 0.0025\n",
      "Epoch 3/100\n",
      "2s - loss: 3.1137e-04\n",
      "Epoch 4/100\n",
      "2s - loss: 2.7970e-04\n",
      "Epoch 5/100\n",
      "2s - loss: 2.7644e-04\n",
      "Epoch 6/100\n",
      "2s - loss: 2.8258e-04\n",
      "Epoch 7/100\n",
      "2s - loss: 2.8887e-04\n",
      "Epoch 8/100\n",
      "2s - loss: 2.8554e-04\n",
      "Epoch 9/100\n",
      "2s - loss: 2.7151e-04\n",
      "Epoch 10/100\n",
      "2s - loss: 2.7456e-04\n",
      "Epoch 11/100\n",
      "2s - loss: 2.8445e-04\n",
      "Epoch 12/100\n",
      "2s - loss: 2.7573e-04\n",
      "Epoch 13/100\n",
      "2s - loss: 2.7946e-04\n",
      "Epoch 14/100\n",
      "2s - loss: 2.7932e-04\n",
      "Epoch 15/100\n",
      "2s - loss: 2.7962e-04\n",
      "Epoch 16/100\n",
      "2s - loss: 2.7382e-04\n",
      "Epoch 17/100\n",
      "2s - loss: 2.7486e-04\n",
      "Epoch 18/100\n",
      "2s - loss: 2.7745e-04\n",
      "Epoch 19/100\n",
      "2s - loss: 2.8508e-04\n",
      "Epoch 20/100\n",
      "2s - loss: 2.7596e-04\n",
      "Epoch 21/100\n",
      "2s - loss: 2.7727e-04\n",
      "Epoch 22/100\n",
      "2s - loss: 2.7477e-04\n",
      "Epoch 23/100\n",
      "2s - loss: 2.8012e-04\n",
      "Epoch 24/100\n",
      "2s - loss: 2.6810e-04\n",
      "Epoch 25/100\n",
      "2s - loss: 2.8271e-04\n",
      "Epoch 26/100\n",
      "2s - loss: 2.7747e-04\n",
      "Epoch 27/100\n",
      "2s - loss: 2.7623e-04\n",
      "Epoch 28/100\n",
      "2s - loss: 2.8029e-04\n",
      "Epoch 29/100\n",
      "2s - loss: 2.7329e-04\n",
      "Epoch 30/100\n",
      "2s - loss: 2.7707e-04\n",
      "Epoch 31/100\n",
      "2s - loss: 2.7859e-04\n",
      "Epoch 32/100\n",
      "3s - loss: 2.8161e-04\n",
      "Epoch 33/100\n",
      "2s - loss: 2.7952e-04\n",
      "Epoch 34/100\n",
      "2s - loss: 2.6862e-04\n",
      "Epoch 35/100\n",
      "3s - loss: 2.7777e-04\n",
      "Epoch 36/100\n",
      "2s - loss: 2.7933e-04\n",
      "Epoch 37/100\n",
      "2s - loss: 2.7990e-04\n",
      "Epoch 38/100\n",
      "2s - loss: 2.7772e-04\n",
      "Epoch 39/100\n",
      "2s - loss: 2.7892e-04\n",
      "Epoch 40/100\n",
      "2s - loss: 2.7315e-04\n",
      "Epoch 41/100\n",
      "2s - loss: 2.7318e-04\n",
      "Epoch 42/100\n",
      "2s - loss: 2.7362e-04\n",
      "Epoch 43/100\n",
      "2s - loss: 2.7869e-04\n",
      "Epoch 44/100\n",
      "2s - loss: 2.7650e-04\n",
      "Epoch 45/100\n",
      "2s - loss: 2.7760e-04\n",
      "Epoch 46/100\n",
      "2s - loss: 2.7585e-04\n",
      "Epoch 47/100\n",
      "2s - loss: 2.8253e-04\n",
      "Epoch 48/100\n",
      "2s - loss: 2.7792e-04\n",
      "Epoch 49/100\n",
      "2s - loss: 2.7330e-04\n",
      "Epoch 50/100\n",
      "2s - loss: 2.7460e-04\n",
      "Epoch 51/100\n",
      "2s - loss: 2.7702e-04\n",
      "Epoch 52/100\n",
      "2s - loss: 2.7789e-04\n",
      "Epoch 53/100\n",
      "2s - loss: 2.7449e-04\n",
      "Epoch 54/100\n",
      "2s - loss: 2.8752e-04\n",
      "Epoch 55/100\n",
      "2s - loss: 2.7512e-04\n",
      "Epoch 56/100\n",
      "2s - loss: 2.7050e-04\n",
      "Epoch 57/100\n",
      "2s - loss: 2.7887e-04\n",
      "Epoch 58/100\n",
      "2s - loss: 2.7111e-04\n",
      "Epoch 59/100\n",
      "2s - loss: 2.7957e-04\n",
      "Epoch 60/100\n",
      "3s - loss: 2.7198e-04\n",
      "Epoch 61/100\n",
      "3s - loss: 2.7426e-04\n",
      "Epoch 62/100\n",
      "2s - loss: 2.7756e-04\n",
      "Epoch 63/100\n",
      "2s - loss: 2.7693e-04\n",
      "Epoch 64/100\n",
      "3s - loss: 2.7640e-04\n",
      "Epoch 65/100\n",
      "3s - loss: 2.8033e-04\n",
      "Epoch 66/100\n",
      "2s - loss: 2.7904e-04\n",
      "Epoch 67/100\n",
      "2s - loss: 2.7993e-04\n",
      "Epoch 68/100\n",
      "2s - loss: 2.7938e-04\n",
      "Epoch 69/100\n",
      "2s - loss: 2.8034e-04\n",
      "Epoch 70/100\n",
      "2s - loss: 2.8045e-04\n",
      "Epoch 71/100\n",
      "2s - loss: 2.7505e-04\n",
      "Epoch 72/100\n",
      "3s - loss: 2.7743e-04\n",
      "Epoch 73/100\n",
      "3s - loss: 2.7538e-04\n",
      "Epoch 74/100\n",
      "3s - loss: 2.8115e-04\n",
      "Epoch 75/100\n",
      "4s - loss: 2.8257e-04\n",
      "Epoch 76/100\n",
      "2s - loss: 2.7345e-04\n",
      "Epoch 77/100\n",
      "2s - loss: 2.7581e-04\n",
      "Epoch 78/100\n",
      "2s - loss: 2.7064e-04\n",
      "Epoch 79/100\n",
      "2s - loss: 2.7724e-04\n",
      "Epoch 80/100\n",
      "2s - loss: 2.7512e-04\n",
      "Epoch 81/100\n",
      "2s - loss: 2.7840e-04\n",
      "Epoch 82/100\n",
      "2s - loss: 2.7101e-04\n",
      "Epoch 83/100\n",
      "2s - loss: 2.8368e-04\n",
      "Epoch 84/100\n",
      "2s - loss: 2.7984e-04\n",
      "Epoch 85/100\n",
      "2s - loss: 2.7707e-04\n",
      "Epoch 86/100\n",
      "2s - loss: 2.7796e-04\n",
      "Epoch 87/100\n",
      "2s - loss: 2.7350e-04\n",
      "Epoch 88/100\n",
      "3s - loss: 2.7718e-04\n",
      "Epoch 89/100\n",
      "3s - loss: 2.7170e-04\n",
      "Epoch 90/100\n",
      "2s - loss: 2.7463e-04\n",
      "Epoch 91/100\n",
      "2s - loss: 2.7270e-04\n",
      "Epoch 92/100\n",
      "2s - loss: 2.8529e-04\n",
      "Epoch 93/100\n",
      "2s - loss: 2.6813e-04\n",
      "Epoch 94/100\n",
      "2s - loss: 2.7777e-04\n",
      "Epoch 95/100\n",
      "2s - loss: 2.7677e-04\n",
      "Epoch 96/100\n",
      "2s - loss: 2.7096e-04\n",
      "Epoch 97/100\n",
      "2s - loss: 2.7293e-04\n",
      "Epoch 98/100\n",
      "2s - loss: 2.7312e-04\n",
      "Epoch 99/100\n",
      "2s - loss: 2.8002e-04\n",
      "Epoch 100/100\n",
      "2s - loss: 2.7188e-04\n"
     ]
    },
    {
     "data": {
      "text/plain": [
       "<keras.callbacks.History at 0x1ff9de626a0>"
      ]
     },
     "execution_count": 49,
     "metadata": {},
     "output_type": "execute_result"
    }
   ],
   "source": [
    "model = Sequential()\n",
    "model.add(LSTM(4, input_shape=(1, lookback)))\n",
    "model.add(Dense(1))\n",
    "model.compile(loss='mean_squared_error', optimizer='adam')\n",
    "model.fit(trainX, trainY, nb_epoch=100, batch_size=1, verbose=2)"
   ]
  },
  {
   "cell_type": "code",
   "execution_count": 50,
   "metadata": {
    "collapsed": true
   },
   "outputs": [],
   "source": [
    "#make predictions\n",
    "trainPredict = model.predict(trainX)\n",
    "testPredict = model.predict(testX)"
   ]
  },
  {
   "cell_type": "code",
   "execution_count": 51,
   "metadata": {
    "collapsed": true
   },
   "outputs": [],
   "source": [
    "# invert predictions\n",
    "trainPredict = scaler.inverse_transform(trainPredict)\n",
    "trainY = scaler.inverse_transform([trainY])\n",
    "testPredict = scaler.inverse_transform(testPredict)\n",
    "testY = scaler.inverse_transform([testY])"
   ]
  },
  {
   "cell_type": "code",
   "execution_count": 52,
   "metadata": {
    "collapsed": false
   },
   "outputs": [],
   "source": [
    "ls = testPredict[:,0] - testY[0]"
   ]
  },
  {
   "cell_type": "code",
   "execution_count": 53,
   "metadata": {
    "collapsed": false
   },
   "outputs": [],
   "source": [
    "diff = np.zeros(10)\n",
    "for i in range(len(testY[0])):\n",
    "    diff[math.floor(math.fabs(ls[i]))] += 1\n",
    "for i in range(len(diff)):\n",
    "    if (i != 0):\n",
    "        diff[i] = diff[i] + diff[i-1]"
   ]
  },
  {
   "cell_type": "code",
   "execution_count": 57,
   "metadata": {
    "collapsed": false
   },
   "outputs": [
    {
     "data": {
      "image/png": "[encoded data removed]",
      "text/plain": [
       "<matplotlib.figure.Figure at 0x1ff9e0edf60>"
      ]
     },
     "metadata": {},
     "output_type": "display_data"
    }
   ],
   "source": [
    "plt.title(\"Cummulative difference.\")\n",
    "plt.xlabel(\"Difference in price ($)\")\n",
    "plt.ylabel(\"Fraction of values\")\n",
    "plt.plot(diff/len(testY[0]))\n",
    "plt.show()"
   ]
  },
  {
   "cell_type": "code",
   "execution_count": 55,
   "metadata": {
    "collapsed": false,
    "scrolled": true
   },
   "outputs": [
    {
     "name": "stdout",
     "output_type": "stream",
     "text": [
      "Train Score: 1.86 RMSE\n",
      "Test Score: 2.37 RMSE\n"
     ]
    }
   ],
   "source": [
    "# calculate root mean squared error\n",
    "trainScore = math.sqrt(mean_squared_error(trainY[0], trainPredict[:,0]))\n",
    "print('Train Score: %.2f RMSE' % (trainScore))\n",
    "testScore = math.sqrt(mean_squared_error(testY[0], testPredict[:,0]))\n",
    "print('Test Score: %.2f RMSE' % (testScore))"
   ]
  },
  {
   "cell_type": "code",
   "execution_count": 68,
   "metadata": {
    "collapsed": false
   },
   "outputs": [
    {
     "data": {
      "image/png": "[encoded data removed]",
      "text/plain": [
       "<matplotlib.figure.Figure at 0x1ff9e320e10>"
      ]
     },
     "metadata": {},
     "output_type": "display_data"
    }
   ],
   "source": [
    "# shift train predictions for plotting\n",
    "trainPredictPlot = np.empty_like(dataset)\n",
    "trainPredictPlot[:, :] = np.nan\n",
    "trainPredictPlot[lookback:len(trainPredict)+lookback, :] = trainPredict\n",
    "\n",
    "# shift test predictions for plotting\n",
    "testPredictPlot = np.empty_like(dataset)\n",
    "testPredictPlot[:, :] = np.nan\n",
    "testPredictPlot[len(trainPredict)+(lookback*2)+1:len(dataset)-1, :] = testPredict\n",
    "\n",
    "# plot baseline and predictions\n",
    "plt.plot(scaler.inverse_transform(dataset), label='original')\n",
    "plt.plot(trainPredictPlot, label='train Predict')\n",
    "plt.plot(testPredictPlot, label='test Predict')\n",
    "plt.legend()\n",
    "plt.show()"
   ]
  },
  {
   "cell_type": "code",
   "execution_count": null,
   "metadata": {
    "collapsed": true
   },
   "outputs": [],
   "source": []
  }
 ],
 "metadata": {
  "anaconda-cloud": {},
  "kernelspec": {
   "display_name": "Python [default]",
   "language": "python",
   "name": "python3"
  },
  "language_info": {
   "codemirror_mode": {
    "name": "ipython",
    "version": 3
   },
   "file_extension": ".py",
   "mimetype": "text/x-python",
   "name": "python",
   "nbconvert_exporter": "python",
   "pygments_lexer": "ipython3",
   "version": "3.5.2"
  }
 },
 "nbformat": 4,
 "nbformat_minor": 1
}
